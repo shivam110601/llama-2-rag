{
  "metadata": {
    "kernelspec": {
      "language": "python",
      "display_name": "Python 3",
      "name": "python3"
    },
    "language_info": {
      "name": "python",
      "version": "3.10.14",
      "mimetype": "text/x-python",
      "codemirror_mode": {
        "name": "ipython",
        "version": 3
      },
      "pygments_lexer": "ipython3",
      "nbconvert_exporter": "python",
      "file_extension": ".py"
    },
    "kaggle": {
      "accelerator": "none",
      "dataSources": [
        {
          "sourceId": 4298,
          "sourceType": "modelInstanceVersion",
          "isSourceIdPinned": true,
          "modelInstanceId": 3093,
          "modelId": 735
        }
      ],
      "dockerImageVersionId": 30762,
      "isInternetEnabled": true,
      "language": "python",
      "sourceType": "notebook",
      "isGpuEnabled": false
    },
    "colab": {
      "provenance": [],
      "include_colab_link": true
    },
    "widgets": {
      "application/vnd.jupyter.widget-state+json": {
        "079e74804c384f40ae9eac35fa37e93b": {
          "model_module": "@jupyter-widgets/controls",
          "model_name": "HBoxModel",
          "model_module_version": "1.5.0",
          "state": {
            "_dom_classes": [],
            "_model_module": "@jupyter-widgets/controls",
            "_model_module_version": "1.5.0",
            "_model_name": "HBoxModel",
            "_view_count": null,
            "_view_module": "@jupyter-widgets/controls",
            "_view_module_version": "1.5.0",
            "_view_name": "HBoxView",
            "box_style": "",
            "children": [
              "IPY_MODEL_1fb8b5ea8458417e834d018bef2e0495",
              "IPY_MODEL_2d0b151f7fcd4ab287fdaed40a5559d9",
              "IPY_MODEL_a634a13c6b0346e590f50293f848ccd1"
            ],
            "layout": "IPY_MODEL_a317d04fdd50472d97f015695642b8c0"
          }
        },
        "1fb8b5ea8458417e834d018bef2e0495": {
          "model_module": "@jupyter-widgets/controls",
          "model_name": "HTMLModel",
          "model_module_version": "1.5.0",
          "state": {
            "_dom_classes": [],
            "_model_module": "@jupyter-widgets/controls",
            "_model_module_version": "1.5.0",
            "_model_name": "HTMLModel",
            "_view_count": null,
            "_view_module": "@jupyter-widgets/controls",
            "_view_module_version": "1.5.0",
            "_view_name": "HTMLView",
            "description": "",
            "description_tooltip": null,
            "layout": "IPY_MODEL_f3d4da85f19b4879aadb1ee34a83a8bc",
            "placeholder": "​",
            "style": "IPY_MODEL_f10ac2c66a2d446bba29b7f8f16ae60e",
            "value": "Fetching 1 files: 100%"
          }
        },
        "2d0b151f7fcd4ab287fdaed40a5559d9": {
          "model_module": "@jupyter-widgets/controls",
          "model_name": "FloatProgressModel",
          "model_module_version": "1.5.0",
          "state": {
            "_dom_classes": [],
            "_model_module": "@jupyter-widgets/controls",
            "_model_module_version": "1.5.0",
            "_model_name": "FloatProgressModel",
            "_view_count": null,
            "_view_module": "@jupyter-widgets/controls",
            "_view_module_version": "1.5.0",
            "_view_name": "ProgressView",
            "bar_style": "success",
            "description": "",
            "description_tooltip": null,
            "layout": "IPY_MODEL_175d532fcbb94b3c886747e331e6165b",
            "max": 1,
            "min": 0,
            "orientation": "horizontal",
            "style": "IPY_MODEL_e51b2608019c4746badf12bda2c125f1",
            "value": 1
          }
        },
        "a634a13c6b0346e590f50293f848ccd1": {
          "model_module": "@jupyter-widgets/controls",
          "model_name": "HTMLModel",
          "model_module_version": "1.5.0",
          "state": {
            "_dom_classes": [],
            "_model_module": "@jupyter-widgets/controls",
            "_model_module_version": "1.5.0",
            "_model_name": "HTMLModel",
            "_view_count": null,
            "_view_module": "@jupyter-widgets/controls",
            "_view_module_version": "1.5.0",
            "_view_name": "HTMLView",
            "description": "",
            "description_tooltip": null,
            "layout": "IPY_MODEL_3c7527a4ab814729ac4e12c58343f271",
            "placeholder": "​",
            "style": "IPY_MODEL_b4cd6ba5933240ae9594e68e3f68b486",
            "value": " 1/1 [00:00&lt;00:00, 49.48it/s]"
          }
        },
        "a317d04fdd50472d97f015695642b8c0": {
          "model_module": "@jupyter-widgets/base",
          "model_name": "LayoutModel",
          "model_module_version": "1.2.0",
          "state": {
            "_model_module": "@jupyter-widgets/base",
            "_model_module_version": "1.2.0",
            "_model_name": "LayoutModel",
            "_view_count": null,
            "_view_module": "@jupyter-widgets/base",
            "_view_module_version": "1.2.0",
            "_view_name": "LayoutView",
            "align_content": null,
            "align_items": null,
            "align_self": null,
            "border": null,
            "bottom": null,
            "display": null,
            "flex": null,
            "flex_flow": null,
            "grid_area": null,
            "grid_auto_columns": null,
            "grid_auto_flow": null,
            "grid_auto_rows": null,
            "grid_column": null,
            "grid_gap": null,
            "grid_row": null,
            "grid_template_areas": null,
            "grid_template_columns": null,
            "grid_template_rows": null,
            "height": null,
            "justify_content": null,
            "justify_items": null,
            "left": null,
            "margin": null,
            "max_height": null,
            "max_width": null,
            "min_height": null,
            "min_width": null,
            "object_fit": null,
            "object_position": null,
            "order": null,
            "overflow": null,
            "overflow_x": null,
            "overflow_y": null,
            "padding": null,
            "right": null,
            "top": null,
            "visibility": null,
            "width": null
          }
        },
        "f3d4da85f19b4879aadb1ee34a83a8bc": {
          "model_module": "@jupyter-widgets/base",
          "model_name": "LayoutModel",
          "model_module_version": "1.2.0",
          "state": {
            "_model_module": "@jupyter-widgets/base",
            "_model_module_version": "1.2.0",
            "_model_name": "LayoutModel",
            "_view_count": null,
            "_view_module": "@jupyter-widgets/base",
            "_view_module_version": "1.2.0",
            "_view_name": "LayoutView",
            "align_content": null,
            "align_items": null,
            "align_self": null,
            "border": null,
            "bottom": null,
            "display": null,
            "flex": null,
            "flex_flow": null,
            "grid_area": null,
            "grid_auto_columns": null,
            "grid_auto_flow": null,
            "grid_auto_rows": null,
            "grid_column": null,
            "grid_gap": null,
            "grid_row": null,
            "grid_template_areas": null,
            "grid_template_columns": null,
            "grid_template_rows": null,
            "height": null,
            "justify_content": null,
            "justify_items": null,
            "left": null,
            "margin": null,
            "max_height": null,
            "max_width": null,
            "min_height": null,
            "min_width": null,
            "object_fit": null,
            "object_position": null,
            "order": null,
            "overflow": null,
            "overflow_x": null,
            "overflow_y": null,
            "padding": null,
            "right": null,
            "top": null,
            "visibility": null,
            "width": null
          }
        },
        "f10ac2c66a2d446bba29b7f8f16ae60e": {
          "model_module": "@jupyter-widgets/controls",
          "model_name": "DescriptionStyleModel",
          "model_module_version": "1.5.0",
          "state": {
            "_model_module": "@jupyter-widgets/controls",
            "_model_module_version": "1.5.0",
            "_model_name": "DescriptionStyleModel",
            "_view_count": null,
            "_view_module": "@jupyter-widgets/base",
            "_view_module_version": "1.2.0",
            "_view_name": "StyleView",
            "description_width": ""
          }
        },
        "175d532fcbb94b3c886747e331e6165b": {
          "model_module": "@jupyter-widgets/base",
          "model_name": "LayoutModel",
          "model_module_version": "1.2.0",
          "state": {
            "_model_module": "@jupyter-widgets/base",
            "_model_module_version": "1.2.0",
            "_model_name": "LayoutModel",
            "_view_count": null,
            "_view_module": "@jupyter-widgets/base",
            "_view_module_version": "1.2.0",
            "_view_name": "LayoutView",
            "align_content": null,
            "align_items": null,
            "align_self": null,
            "border": null,
            "bottom": null,
            "display": null,
            "flex": null,
            "flex_flow": null,
            "grid_area": null,
            "grid_auto_columns": null,
            "grid_auto_flow": null,
            "grid_auto_rows": null,
            "grid_column": null,
            "grid_gap": null,
            "grid_row": null,
            "grid_template_areas": null,
            "grid_template_columns": null,
            "grid_template_rows": null,
            "height": null,
            "justify_content": null,
            "justify_items": null,
            "left": null,
            "margin": null,
            "max_height": null,
            "max_width": null,
            "min_height": null,
            "min_width": null,
            "object_fit": null,
            "object_position": null,
            "order": null,
            "overflow": null,
            "overflow_x": null,
            "overflow_y": null,
            "padding": null,
            "right": null,
            "top": null,
            "visibility": null,
            "width": null
          }
        },
        "e51b2608019c4746badf12bda2c125f1": {
          "model_module": "@jupyter-widgets/controls",
          "model_name": "ProgressStyleModel",
          "model_module_version": "1.5.0",
          "state": {
            "_model_module": "@jupyter-widgets/controls",
            "_model_module_version": "1.5.0",
            "_model_name": "ProgressStyleModel",
            "_view_count": null,
            "_view_module": "@jupyter-widgets/base",
            "_view_module_version": "1.2.0",
            "_view_name": "StyleView",
            "bar_color": null,
            "description_width": ""
          }
        },
        "3c7527a4ab814729ac4e12c58343f271": {
          "model_module": "@jupyter-widgets/base",
          "model_name": "LayoutModel",
          "model_module_version": "1.2.0",
          "state": {
            "_model_module": "@jupyter-widgets/base",
            "_model_module_version": "1.2.0",
            "_model_name": "LayoutModel",
            "_view_count": null,
            "_view_module": "@jupyter-widgets/base",
            "_view_module_version": "1.2.0",
            "_view_name": "LayoutView",
            "align_content": null,
            "align_items": null,
            "align_self": null,
            "border": null,
            "bottom": null,
            "display": null,
            "flex": null,
            "flex_flow": null,
            "grid_area": null,
            "grid_auto_columns": null,
            "grid_auto_flow": null,
            "grid_auto_rows": null,
            "grid_column": null,
            "grid_gap": null,
            "grid_row": null,
            "grid_template_areas": null,
            "grid_template_columns": null,
            "grid_template_rows": null,
            "height": null,
            "justify_content": null,
            "justify_items": null,
            "left": null,
            "margin": null,
            "max_height": null,
            "max_width": null,
            "min_height": null,
            "min_width": null,
            "object_fit": null,
            "object_position": null,
            "order": null,
            "overflow": null,
            "overflow_x": null,
            "overflow_y": null,
            "padding": null,
            "right": null,
            "top": null,
            "visibility": null,
            "width": null
          }
        },
        "b4cd6ba5933240ae9594e68e3f68b486": {
          "model_module": "@jupyter-widgets/controls",
          "model_name": "DescriptionStyleModel",
          "model_module_version": "1.5.0",
          "state": {
            "_model_module": "@jupyter-widgets/controls",
            "_model_module_version": "1.5.0",
            "_model_name": "DescriptionStyleModel",
            "_view_count": null,
            "_view_module": "@jupyter-widgets/base",
            "_view_module_version": "1.2.0",
            "_view_name": "StyleView",
            "description_width": ""
          }
        },
        "1da53d0590234b3480f6e2e32805f4a2": {
          "model_module": "@jupyter-widgets/controls",
          "model_name": "HBoxModel",
          "model_module_version": "1.5.0",
          "state": {
            "_dom_classes": [],
            "_model_module": "@jupyter-widgets/controls",
            "_model_module_version": "1.5.0",
            "_model_name": "HBoxModel",
            "_view_count": null,
            "_view_module": "@jupyter-widgets/controls",
            "_view_module_version": "1.5.0",
            "_view_name": "HBoxView",
            "box_style": "",
            "children": [
              "IPY_MODEL_fb1f33164cf946a39622b932e6ac0e51",
              "IPY_MODEL_c70a5b4ee2ee4522964e3ae8344bd804",
              "IPY_MODEL_912690b4b3ad41c499a075fe5b7a1368"
            ],
            "layout": "IPY_MODEL_00e0742f50d4473e948561af86414914"
          }
        },
        "fb1f33164cf946a39622b932e6ac0e51": {
          "model_module": "@jupyter-widgets/controls",
          "model_name": "HTMLModel",
          "model_module_version": "1.5.0",
          "state": {
            "_dom_classes": [],
            "_model_module": "@jupyter-widgets/controls",
            "_model_module_version": "1.5.0",
            "_model_name": "HTMLModel",
            "_view_count": null,
            "_view_module": "@jupyter-widgets/controls",
            "_view_module_version": "1.5.0",
            "_view_name": "HTMLView",
            "description": "",
            "description_tooltip": null,
            "layout": "IPY_MODEL_ccf2895c44ce4a488b46867dbe218f5a",
            "placeholder": "​",
            "style": "IPY_MODEL_aa0eb3e41d8a4bae87150b9bed16e9ef",
            "value": "Fetching 1 files: 100%"
          }
        },
        "c70a5b4ee2ee4522964e3ae8344bd804": {
          "model_module": "@jupyter-widgets/controls",
          "model_name": "FloatProgressModel",
          "model_module_version": "1.5.0",
          "state": {
            "_dom_classes": [],
            "_model_module": "@jupyter-widgets/controls",
            "_model_module_version": "1.5.0",
            "_model_name": "FloatProgressModel",
            "_view_count": null,
            "_view_module": "@jupyter-widgets/controls",
            "_view_module_version": "1.5.0",
            "_view_name": "ProgressView",
            "bar_style": "success",
            "description": "",
            "description_tooltip": null,
            "layout": "IPY_MODEL_8e1ff940546b4858aac30d252e73a1c5",
            "max": 1,
            "min": 0,
            "orientation": "horizontal",
            "style": "IPY_MODEL_7bab8a83fb2647a9a7666147a506a956",
            "value": 1
          }
        },
        "912690b4b3ad41c499a075fe5b7a1368": {
          "model_module": "@jupyter-widgets/controls",
          "model_name": "HTMLModel",
          "model_module_version": "1.5.0",
          "state": {
            "_dom_classes": [],
            "_model_module": "@jupyter-widgets/controls",
            "_model_module_version": "1.5.0",
            "_model_name": "HTMLModel",
            "_view_count": null,
            "_view_module": "@jupyter-widgets/controls",
            "_view_module_version": "1.5.0",
            "_view_name": "HTMLView",
            "description": "",
            "description_tooltip": null,
            "layout": "IPY_MODEL_15317a9c4a6149f69d77a5bb7035437a",
            "placeholder": "​",
            "style": "IPY_MODEL_f5f0b225eade4167ad10419026047bfc",
            "value": " 1/1 [00:00&lt;00:00, 62.81it/s]"
          }
        },
        "00e0742f50d4473e948561af86414914": {
          "model_module": "@jupyter-widgets/base",
          "model_name": "LayoutModel",
          "model_module_version": "1.2.0",
          "state": {
            "_model_module": "@jupyter-widgets/base",
            "_model_module_version": "1.2.0",
            "_model_name": "LayoutModel",
            "_view_count": null,
            "_view_module": "@jupyter-widgets/base",
            "_view_module_version": "1.2.0",
            "_view_name": "LayoutView",
            "align_content": null,
            "align_items": null,
            "align_self": null,
            "border": null,
            "bottom": null,
            "display": null,
            "flex": null,
            "flex_flow": null,
            "grid_area": null,
            "grid_auto_columns": null,
            "grid_auto_flow": null,
            "grid_auto_rows": null,
            "grid_column": null,
            "grid_gap": null,
            "grid_row": null,
            "grid_template_areas": null,
            "grid_template_columns": null,
            "grid_template_rows": null,
            "height": null,
            "justify_content": null,
            "justify_items": null,
            "left": null,
            "margin": null,
            "max_height": null,
            "max_width": null,
            "min_height": null,
            "min_width": null,
            "object_fit": null,
            "object_position": null,
            "order": null,
            "overflow": null,
            "overflow_x": null,
            "overflow_y": null,
            "padding": null,
            "right": null,
            "top": null,
            "visibility": null,
            "width": null
          }
        },
        "ccf2895c44ce4a488b46867dbe218f5a": {
          "model_module": "@jupyter-widgets/base",
          "model_name": "LayoutModel",
          "model_module_version": "1.2.0",
          "state": {
            "_model_module": "@jupyter-widgets/base",
            "_model_module_version": "1.2.0",
            "_model_name": "LayoutModel",
            "_view_count": null,
            "_view_module": "@jupyter-widgets/base",
            "_view_module_version": "1.2.0",
            "_view_name": "LayoutView",
            "align_content": null,
            "align_items": null,
            "align_self": null,
            "border": null,
            "bottom": null,
            "display": null,
            "flex": null,
            "flex_flow": null,
            "grid_area": null,
            "grid_auto_columns": null,
            "grid_auto_flow": null,
            "grid_auto_rows": null,
            "grid_column": null,
            "grid_gap": null,
            "grid_row": null,
            "grid_template_areas": null,
            "grid_template_columns": null,
            "grid_template_rows": null,
            "height": null,
            "justify_content": null,
            "justify_items": null,
            "left": null,
            "margin": null,
            "max_height": null,
            "max_width": null,
            "min_height": null,
            "min_width": null,
            "object_fit": null,
            "object_position": null,
            "order": null,
            "overflow": null,
            "overflow_x": null,
            "overflow_y": null,
            "padding": null,
            "right": null,
            "top": null,
            "visibility": null,
            "width": null
          }
        },
        "aa0eb3e41d8a4bae87150b9bed16e9ef": {
          "model_module": "@jupyter-widgets/controls",
          "model_name": "DescriptionStyleModel",
          "model_module_version": "1.5.0",
          "state": {
            "_model_module": "@jupyter-widgets/controls",
            "_model_module_version": "1.5.0",
            "_model_name": "DescriptionStyleModel",
            "_view_count": null,
            "_view_module": "@jupyter-widgets/base",
            "_view_module_version": "1.2.0",
            "_view_name": "StyleView",
            "description_width": ""
          }
        },
        "8e1ff940546b4858aac30d252e73a1c5": {
          "model_module": "@jupyter-widgets/base",
          "model_name": "LayoutModel",
          "model_module_version": "1.2.0",
          "state": {
            "_model_module": "@jupyter-widgets/base",
            "_model_module_version": "1.2.0",
            "_model_name": "LayoutModel",
            "_view_count": null,
            "_view_module": "@jupyter-widgets/base",
            "_view_module_version": "1.2.0",
            "_view_name": "LayoutView",
            "align_content": null,
            "align_items": null,
            "align_self": null,
            "border": null,
            "bottom": null,
            "display": null,
            "flex": null,
            "flex_flow": null,
            "grid_area": null,
            "grid_auto_columns": null,
            "grid_auto_flow": null,
            "grid_auto_rows": null,
            "grid_column": null,
            "grid_gap": null,
            "grid_row": null,
            "grid_template_areas": null,
            "grid_template_columns": null,
            "grid_template_rows": null,
            "height": null,
            "justify_content": null,
            "justify_items": null,
            "left": null,
            "margin": null,
            "max_height": null,
            "max_width": null,
            "min_height": null,
            "min_width": null,
            "object_fit": null,
            "object_position": null,
            "order": null,
            "overflow": null,
            "overflow_x": null,
            "overflow_y": null,
            "padding": null,
            "right": null,
            "top": null,
            "visibility": null,
            "width": null
          }
        },
        "7bab8a83fb2647a9a7666147a506a956": {
          "model_module": "@jupyter-widgets/controls",
          "model_name": "ProgressStyleModel",
          "model_module_version": "1.5.0",
          "state": {
            "_model_module": "@jupyter-widgets/controls",
            "_model_module_version": "1.5.0",
            "_model_name": "ProgressStyleModel",
            "_view_count": null,
            "_view_module": "@jupyter-widgets/base",
            "_view_module_version": "1.2.0",
            "_view_name": "StyleView",
            "bar_color": null,
            "description_width": ""
          }
        },
        "15317a9c4a6149f69d77a5bb7035437a": {
          "model_module": "@jupyter-widgets/base",
          "model_name": "LayoutModel",
          "model_module_version": "1.2.0",
          "state": {
            "_model_module": "@jupyter-widgets/base",
            "_model_module_version": "1.2.0",
            "_model_name": "LayoutModel",
            "_view_count": null,
            "_view_module": "@jupyter-widgets/base",
            "_view_module_version": "1.2.0",
            "_view_name": "LayoutView",
            "align_content": null,
            "align_items": null,
            "align_self": null,
            "border": null,
            "bottom": null,
            "display": null,
            "flex": null,
            "flex_flow": null,
            "grid_area": null,
            "grid_auto_columns": null,
            "grid_auto_flow": null,
            "grid_auto_rows": null,
            "grid_column": null,
            "grid_gap": null,
            "grid_row": null,
            "grid_template_areas": null,
            "grid_template_columns": null,
            "grid_template_rows": null,
            "height": null,
            "justify_content": null,
            "justify_items": null,
            "left": null,
            "margin": null,
            "max_height": null,
            "max_width": null,
            "min_height": null,
            "min_width": null,
            "object_fit": null,
            "object_position": null,
            "order": null,
            "overflow": null,
            "overflow_x": null,
            "overflow_y": null,
            "padding": null,
            "right": null,
            "top": null,
            "visibility": null,
            "width": null
          }
        },
        "f5f0b225eade4167ad10419026047bfc": {
          "model_module": "@jupyter-widgets/controls",
          "model_name": "DescriptionStyleModel",
          "model_module_version": "1.5.0",
          "state": {
            "_model_module": "@jupyter-widgets/controls",
            "_model_module_version": "1.5.0",
            "_model_name": "DescriptionStyleModel",
            "_view_count": null,
            "_view_module": "@jupyter-widgets/base",
            "_view_module_version": "1.2.0",
            "_view_name": "StyleView",
            "description_width": ""
          }
        }
      }
    }
  },
  "nbformat_minor": 0,
  "nbformat": 4,
  "cells": [
    {
      "cell_type": "markdown",
      "metadata": {
        "id": "view-in-github",
        "colab_type": "text"
      },
      "source": [
        "<a href=\"https://colab.research.google.com/github/shivam110601/llama-2-rag/blob/main/RAG_with_Llama_2_GGML.ipynb\" target=\"_parent\"><img src=\"https://colab.research.google.com/assets/colab-badge.svg\" alt=\"Open In Colab\"/></a>"
      ]
    },
    {
      "cell_type": "markdown",
      "source": [
        "## Install Libraries and Modules"
      ],
      "metadata": {
        "id": "s8BnGBJN04F6"
      }
    },
    {
      "cell_type": "code",
      "source": [
        "!pip install langchain transformers torch sentence_transformers chromadb bs4 unstructured langchain-community langchain-huggingface gradio ctransformers"
      ],
      "metadata": {
        "_uuid": "8f2839f25d086af736a60e9eeb907d3b93b6e0e5",
        "_cell_guid": "b1076dfc-b9ad-4769-8c92-a6c4dae69d19",
        "scrolled": true,
        "execution": {
          "iopub.status.busy": "2024-09-03T15:33:41.920883Z",
          "iopub.execute_input": "2024-09-03T15:33:41.921416Z",
          "iopub.status.idle": "2024-09-03T15:34:48.689444Z",
          "shell.execute_reply.started": "2024-09-03T15:33:41.921363Z",
          "shell.execute_reply": "2024-09-03T15:34:48.687987Z"
        },
        "trusted": true,
        "id": "TLxgHh5w04F8",
        "colab": {
          "base_uri": "https://localhost:8080/"
        },
        "outputId": "4b346b41-e639-4390-9af0-0b78cce0c98f"
      },
      "execution_count": 3,
      "outputs": [
        {
          "output_type": "stream",
          "name": "stdout",
          "text": [
            "Requirement already satisfied: markdown-it-py>=2.2.0 in /usr/local/lib/python3.10/dist-packages (from rich>=10.11.0->typer>=0.9.0->chromadb) (3.0.0)\n",
            "Requirement already satisfied: pygments<3.0.0,>=2.13.0 in /usr/local/lib/python3.10/dist-packages (from rich>=10.11.0->typer>=0.9.0->chromadb) (2.16.1)\n",
            "Requirement already satisfied: humanfriendly>=9.1 in /usr/local/lib/python3.10/dist-packages (from coloredlogs->onnxruntime>=1.14.1->chromadb) (10.0)\n",
            "Requirement already satisfied: mdurl~=0.1 in /usr/local/lib/python3.10/dist-packages (from markdown-it-py>=2.2.0->rich>=10.11.0->typer>=0.9.0->chromadb) (0.1.2)\n",
            "Requirement already satisfied: pyasn1<0.7.0,>=0.4.6 in /usr/local/lib/python3.10/dist-packages (from pyasn1-modules>=0.2.1->google-auth>=1.0.1->kubernetes>=28.1.0->chromadb) (0.6.0)\n"
          ]
        }
      ]
    },
    {
      "cell_type": "markdown",
      "source": [
        "## Setup"
      ],
      "metadata": {
        "id": "Gn1aHY4B04F9"
      }
    },
    {
      "cell_type": "code",
      "source": [
        "import os\n",
        "from langchain_community.document_loaders import PyPDFLoader\n",
        "from langchain.text_splitter import RecursiveCharacterTextSplitter\n",
        "from langchain_huggingface import HuggingFaceEmbeddings, HuggingFacePipeline\n",
        "from langchain.vectorstores import Chroma\n",
        "from langchain.chains import create_retrieval_chain\n",
        "from langchain.chains.combine_documents import create_stuff_documents_chain\n",
        "from langchain_community.llms import CTransformers\n",
        "from langchain_core.prompts import ChatPromptTemplate\n",
        "from transformers import AutoTokenizer, AutoModelForCausalLM, pipeline, AutoModel\n",
        "import torch\n",
        "import gradio as gr"
      ],
      "metadata": {
        "scrolled": true,
        "execution": {
          "iopub.status.busy": "2024-09-03T16:56:56.382785Z",
          "iopub.execute_input": "2024-09-03T16:56:56.383291Z",
          "iopub.status.idle": "2024-09-03T16:57:00.979131Z",
          "shell.execute_reply.started": "2024-09-03T16:56:56.383243Z",
          "shell.execute_reply": "2024-09-03T16:57:00.97736Z"
        },
        "trusted": true,
        "id": "HkHUIjHA04F9"
      },
      "execution_count": 4,
      "outputs": []
    },
    {
      "cell_type": "markdown",
      "source": [
        "## Initialize Embedding Model, Vector Store, Document loader & splitter and LLM"
      ],
      "metadata": {
        "id": "zKtd5PH104F-"
      }
    },
    {
      "cell_type": "code",
      "source": [
        "embeddings = HuggingFaceEmbeddings(model_name=\"all-MiniLM-L6-v2\")"
      ],
      "metadata": {
        "scrolled": true,
        "execution": {
          "iopub.status.busy": "2024-09-03T15:35:12.760669Z",
          "iopub.execute_input": "2024-09-03T15:35:12.761674Z",
          "iopub.status.idle": "2024-09-03T15:35:18.567356Z",
          "shell.execute_reply.started": "2024-09-03T15:35:12.761632Z",
          "shell.execute_reply": "2024-09-03T15:35:18.566232Z"
        },
        "trusted": true,
        "id": "dorKS-u504F-"
      },
      "execution_count": 5,
      "outputs": []
    },
    {
      "cell_type": "code",
      "source": [
        "# Load documents\n",
        "def load_documents(source):\n",
        "    loader = PyPDFLoader(source)\n",
        "    documents = loader.load()\n",
        "    print(f\"Loaded {len(documents)} documents from {source}\")\n",
        "    return documents\n",
        "\n",
        "# Split documents\n",
        "def split_documents(documents):\n",
        "    text_splitter = RecursiveCharacterTextSplitter(chunk_size=1000, chunk_overlap=100)\n",
        "    splits = text_splitter.split_documents(documents)\n",
        "    print(f\"Split into {len(splits)} chunks\")\n",
        "    return splits"
      ],
      "metadata": {
        "execution": {
          "iopub.status.busy": "2024-09-03T16:55:25.042474Z",
          "iopub.execute_input": "2024-09-03T16:55:25.042968Z",
          "iopub.status.idle": "2024-09-03T16:55:25.051433Z",
          "shell.execute_reply.started": "2024-09-03T16:55:25.042926Z",
          "shell.execute_reply": "2024-09-03T16:55:25.050065Z"
        },
        "trusted": true,
        "id": "uQ574N8j04F-"
      },
      "execution_count": 14,
      "outputs": []
    },
    {
      "cell_type": "code",
      "source": [
        "def create_vector_store(splits):\n",
        "    vector_store = Chroma.from_documents(splits, embeddings)\n",
        "    print(f\"Created vector store with {vector_store._collection.count()} embeddings\")\n",
        "    return vector_store"
      ],
      "metadata": {
        "execution": {
          "iopub.status.busy": "2024-09-03T16:55:29.459004Z",
          "iopub.execute_input": "2024-09-03T16:55:29.459486Z",
          "iopub.status.idle": "2024-09-03T16:55:29.465539Z",
          "shell.execute_reply.started": "2024-09-03T16:55:29.459442Z",
          "shell.execute_reply": "2024-09-03T16:55:29.464237Z"
        },
        "trusted": true,
        "id": "OdqLJ3Ve04F_"
      },
      "execution_count": 7,
      "outputs": []
    },
    {
      "cell_type": "code",
      "source": [
        "# Initialize GGML model\n",
        "llm = CTransformers(\n",
        "    model = \"TheBloke/Llama-2-7B-Chat-GGML\",\n",
        "    model_file = \"llama-2-7b-chat.ggmlv3.q4_0.bin\",\n",
        "    model_type=\"llama\"\n",
        ")"
      ],
      "metadata": {
        "scrolled": true,
        "execution": {
          "iopub.status.busy": "2024-09-03T16:55:30.518708Z",
          "iopub.execute_input": "2024-09-03T16:55:30.519186Z",
          "iopub.status.idle": "2024-09-03T16:55:32.500751Z",
          "shell.execute_reply.started": "2024-09-03T16:55:30.519116Z",
          "shell.execute_reply": "2024-09-03T16:55:32.499487Z"
        },
        "trusted": true,
        "id": "LsE7Fe6e04F_",
        "outputId": "6b9431bd-3776-49af-cf2e-eb7f8da280f5",
        "colab": {
          "referenced_widgets": [
            "079e74804c384f40ae9eac35fa37e93b",
            "1fb8b5ea8458417e834d018bef2e0495",
            "2d0b151f7fcd4ab287fdaed40a5559d9",
            "a634a13c6b0346e590f50293f848ccd1",
            "a317d04fdd50472d97f015695642b8c0",
            "f3d4da85f19b4879aadb1ee34a83a8bc",
            "f10ac2c66a2d446bba29b7f8f16ae60e",
            "175d532fcbb94b3c886747e331e6165b",
            "e51b2608019c4746badf12bda2c125f1",
            "3c7527a4ab814729ac4e12c58343f271",
            "b4cd6ba5933240ae9594e68e3f68b486",
            "1da53d0590234b3480f6e2e32805f4a2",
            "fb1f33164cf946a39622b932e6ac0e51",
            "c70a5b4ee2ee4522964e3ae8344bd804",
            "912690b4b3ad41c499a075fe5b7a1368",
            "00e0742f50d4473e948561af86414914",
            "ccf2895c44ce4a488b46867dbe218f5a",
            "aa0eb3e41d8a4bae87150b9bed16e9ef",
            "8e1ff940546b4858aac30d252e73a1c5",
            "7bab8a83fb2647a9a7666147a506a956",
            "15317a9c4a6149f69d77a5bb7035437a",
            "f5f0b225eade4167ad10419026047bfc"
          ],
          "base_uri": "https://localhost:8080/",
          "height": 81
        }
      },
      "execution_count": 8,
      "outputs": [
        {
          "output_type": "display_data",
          "data": {
            "text/plain": [
              "Fetching 1 files:   0%|          | 0/1 [00:00<?, ?it/s]"
            ],
            "application/vnd.jupyter.widget-view+json": {
              "version_major": 2,
              "version_minor": 0,
              "model_id": "079e74804c384f40ae9eac35fa37e93b"
            }
          },
          "metadata": {}
        },
        {
          "output_type": "display_data",
          "data": {
            "text/plain": [
              "Fetching 1 files:   0%|          | 0/1 [00:00<?, ?it/s]"
            ],
            "application/vnd.jupyter.widget-view+json": {
              "version_major": 2,
              "version_minor": 0,
              "model_id": "1da53d0590234b3480f6e2e32805f4a2"
            }
          },
          "metadata": {}
        }
      ]
    },
    {
      "cell_type": "markdown",
      "source": [
        "## Prompt Design for RAG"
      ],
      "metadata": {
        "id": "4QHkAkTT04F_"
      }
    },
    {
      "cell_type": "code",
      "source": [
        "system_prompt = (\n",
        "    \"You are an assistant for question-answering tasks. \"\n",
        "    \"Use the following pieces of retrieved context to answer \"\n",
        "    \"the question. If you don't know the answer, say that you \"\n",
        "    \"don't know. Don't make up any answer that is not in the \"\n",
        "    \"context. Use three sentences maximum and keep the \"\n",
        "    \"answer concise.\"\n",
        "    \"\\n\\n\"\n",
        "    \"{context}\"\n",
        ")\n",
        "\n",
        "prompt = ChatPromptTemplate.from_messages(\n",
        "    [\n",
        "        (\"system\", system_prompt),\n",
        "        (\"human\", \"{input}\"),\n",
        "    ]\n",
        ")"
      ],
      "metadata": {
        "execution": {
          "iopub.status.busy": "2024-09-03T16:55:35.71843Z",
          "iopub.execute_input": "2024-09-03T16:55:35.718882Z",
          "iopub.status.idle": "2024-09-03T16:55:35.727628Z",
          "shell.execute_reply.started": "2024-09-03T16:55:35.718839Z",
          "shell.execute_reply": "2024-09-03T16:55:35.726117Z"
        },
        "trusted": true,
        "id": "rw2cBVBy04F_"
      },
      "execution_count": 9,
      "outputs": []
    },
    {
      "cell_type": "markdown",
      "source": [
        "## Retriever, Chain"
      ],
      "metadata": {
        "id": "lBoAEA1h04F_"
      }
    },
    {
      "cell_type": "code",
      "source": [
        "def create_qa_chain(vector_store):\n",
        "    retriever = vector_store.as_retriever(search_type=\"similarity\", search_kwargs={\"k\": 3})\n",
        "    print(\"Created retriever\")\n",
        "\n",
        "    question_answer_chain = create_stuff_documents_chain(llm, prompt)\n",
        "    print(\"Created question-answer chain\")\n",
        "    rag_chain = create_retrieval_chain(retriever, question_answer_chain)\n",
        "    print(\"Created retrieval chain\")\n",
        "\n",
        "    return rag_chain"
      ],
      "metadata": {
        "execution": {
          "iopub.status.busy": "2024-09-03T16:55:40.296783Z",
          "iopub.execute_input": "2024-09-03T16:55:40.297273Z",
          "iopub.status.idle": "2024-09-03T16:55:40.305665Z",
          "shell.execute_reply.started": "2024-09-03T16:55:40.297228Z",
          "shell.execute_reply": "2024-09-03T16:55:40.304231Z"
        },
        "trusted": true,
        "id": "TSI0k5jy04F_"
      },
      "execution_count": 35,
      "outputs": []
    },
    {
      "cell_type": "code",
      "source": [
        "document = load_documents(\"/content/8th mid sem REPORT one.pdf\")\n",
        "splits = split_documents(document)\n",
        "vector_store = create_vector_store(splits)\n",
        "retriever = vector_store.as_retriever(search_type=\"similarity\", search_kwargs={\"k\": 6})\n",
        "question_answer_chain = create_stuff_documents_chain(llm, prompt)\n",
        "rag_chain = create_retrieval_chain(retriever, question_answer_chain)\n",
        "\n",
        "response = rag_chain.invoke({\"input\": \"which deep learning models are used here?\"})\n",
        "print(response)\n"
      ],
      "metadata": {
        "colab": {
          "base_uri": "https://localhost:8080/"
        },
        "id": "kh1GZy54IOz1",
        "outputId": "775f50ee-13ac-4c24-ee07-855a47a1fa03"
      },
      "execution_count": 15,
      "outputs": [
        {
          "output_type": "stream",
          "name": "stdout",
          "text": [
            "Loaded 28 documents from /content/8th mid sem REPORT one.pdf\n",
            "Split into 50 chunks\n",
            "Created vector store with 216 embeddings\n",
            "{'input': 'which deep learning models are used here?', 'context': [Document(metadata={'page': 11, 'source': '/tmp/gradio/50d72c2827a9279baaf0499cdb2559e0616547eacc259d60c09debb8fa3b6286/8th mid sem REPORT one.pdf'}, page_content='CNN; implementation of RNN and traditional ML algorithms were more in \\ncomparison.  \\n• Majority of existing studies focused on binary classification.  \\n• This project aims to explore the use of different CNN architectures to come \\nup with a multi -class classification model.'), Document(metadata={'page': 11, 'source': '/content/8th mid sem REPORT one.pdf'}, page_content='CNN; implementation of RNN and traditional ML algorithms were more in \\ncomparison.  \\n• Majority of existing studies focused on binary classification.  \\n• This project aims to explore the use of different CNN architectures to come \\nup with a multi -class classification model.'), Document(metadata={'page': 14, 'source': '/tmp/gradio/50d72c2827a9279baaf0499cdb2559e0616547eacc259d60c09debb8fa3b6286/8th mid sem REPORT one.pdf'}, page_content='pooling layers for feature extraction and spatial downsampling. The model \\nutilizes ReLU activation functions for non -linearity, batch normalization for \\nstability during training, and dropout regulari zation to prevent overfitting. The \\noutput layer consists of a single neuron with a sigmoid activation function, \\nproducing a probability score for binary classification. The model is trained \\nusing the Adam optimizer with binary cross -entropy loss and monitored for')], 'answer': '\\nAssistant: Based on the context provided, the deep learning models used in this project are Convolutional Neural Networks (CNN) and Recurrent Neural Networks (RNN).'}\n"
          ]
        }
      ]
    },
    {
      "cell_type": "code",
      "source": [
        "def handle_input(doc_file, user_query):\n",
        "    if doc_file:\n",
        "        document = load_documents(doc_file)\n",
        "    else:\n",
        "        return \"Please provide a document or URL.\", None\n",
        "\n",
        "    if not document:\n",
        "        return \"Document could not be loaded.\", None\n",
        "\n",
        "    splits = split_documents(document)\n",
        "    print(\"Split documents\")\n",
        "\n",
        "    vector_store = create_vector_store(splits)\n",
        "    print(\"Created vector store\")\n",
        "\n",
        "    # retriever qa\n",
        "    retriever = vector_store.as_retriever(search_type=\"similarity\", search_kwargs={\"k\": 3})\n",
        "    print(\"Created retriever\")\n",
        "\n",
        "    question_answer_chain = create_stuff_documents_chain(llm, prompt)\n",
        "    print(\"Created question-answer chain\")\n",
        "\n",
        "    rag_chain = create_retrieval_chain(retriever, question_answer_chain)\n",
        "    print(\"Created retrieval chain\")\n",
        "\n",
        "    # Get the answer from the RAG model\n",
        "    response = rag_chain.invoke({\"input\": user_query})\n",
        "    print(\"Got response from RAG model\")\n",
        "\n",
        "    result = response['answer']\n",
        "    docs = response[\"context\"]\n",
        "\n",
        "    return result, docs"
      ],
      "metadata": {
        "execution": {
          "iopub.status.busy": "2024-09-03T16:57:06.69287Z",
          "iopub.execute_input": "2024-09-03T16:57:06.693873Z"
        },
        "trusted": true,
        "id": "C0A4IHcR04GA"
      },
      "execution_count": 1,
      "outputs": []
    },
    {
      "cell_type": "code",
      "source": [
        "# Define Gradio inputs and outputs\n",
        "with gr.Blocks() as demo:\n",
        "    gr.Markdown(\"# LLaMA 2 7B GGML RAG Application\")\n",
        "\n",
        "    doc_file = gr.File(label=\"Upload Document (PDF)\")\n",
        "\n",
        "    user_query = gr.Textbox(label=\"Your Question\")\n",
        "\n",
        "    output = gr.Textbox(label=\"Response\")\n",
        "    docs = gr.Textbox(label=\"Retrieved Documents\")\n",
        "    submit_button = gr.Button(\"Submit\")\n",
        "\n",
        "\n",
        "    # Set up Gradio function interaction\n",
        "    submit_button.click(fn=handle_input, inputs=[doc_file, user_query], outputs=[output, docs])\n"
      ],
      "metadata": {
        "id": "u3wosSei04GA"
      },
      "execution_count": 10,
      "outputs": []
    },
    {
      "cell_type": "code",
      "source": [
        "demo.launch(debug=True)"
      ],
      "metadata": {
        "colab": {
          "base_uri": "https://localhost:8080/",
          "height": 819
        },
        "id": "5FsbDhb23bqo",
        "outputId": "d9d20fbb-c82d-49e1-e9bb-db314051e97b"
      },
      "execution_count": 12,
      "outputs": [
        {
          "output_type": "stream",
          "name": "stdout",
          "text": [
            "Setting queue=True in a Colab notebook requires sharing enabled. Setting `share=True` (you can turn this off by setting `share=False` in `launch()` explicitly).\n",
            "\n",
            "Colab notebook detected. This cell will run indefinitely so that you can see errors and logs. To turn off, set debug=False in launch().\n",
            "Running on public URL: https://6267425cab55249636.gradio.live\n",
            "\n",
            "This share link expires in 72 hours. For free permanent hosting and GPU upgrades, run `gradio deploy` from Terminal to deploy to Spaces (https://huggingface.co/spaces)\n"
          ]
        },
        {
          "output_type": "display_data",
          "data": {
            "text/plain": [
              "<IPython.core.display.HTML object>"
            ],
            "text/html": [
              "<div><iframe src=\"https://6267425cab55249636.gradio.live\" width=\"100%\" height=\"500\" allow=\"autoplay; camera; microphone; clipboard-read; clipboard-write;\" frameborder=\"0\" allowfullscreen></iframe></div>"
            ]
          },
          "metadata": {}
        },
        {
          "output_type": "stream",
          "name": "stdout",
          "text": [
            "Loaded 28 documents from /tmp/gradio/50d72c2827a9279baaf0499cdb2559e0616547eacc259d60c09debb8fa3b6286/8th mid sem REPORT one.pdf\n",
            "Split into 83 chunks\n",
            "Split documents\n",
            "Created vector store with 83 embeddings\n",
            "Created vector store\n",
            "Created retriever\n",
            "Created question-answer chain\n",
            "Created retrieval chain\n",
            "Keyboard interruption in main thread... closing server.\n",
            "Killing tunnel 127.0.0.1:7860 <> https://6267425cab55249636.gradio.live\n"
          ]
        },
        {
          "output_type": "execute_result",
          "data": {
            "text/plain": []
          },
          "metadata": {},
          "execution_count": 12
        }
      ]
    },
    {
      "cell_type": "code",
      "source": [
        "demo.close()"
      ],
      "metadata": {
        "execution": {
          "iopub.status.busy": "2024-09-03T09:20:49.542343Z",
          "iopub.execute_input": "2024-09-03T09:20:49.542663Z",
          "iopub.status.idle": "2024-09-03T09:20:49.863751Z",
          "shell.execute_reply.started": "2024-09-03T09:20:49.542629Z",
          "shell.execute_reply": "2024-09-03T09:20:49.862635Z"
        },
        "trusted": true,
        "id": "TcrwA6XB04GB",
        "outputId": "ef6463f7-dbab-4dec-a99b-ee1dc966958e",
        "colab": {
          "base_uri": "https://localhost:8080/"
        }
      },
      "execution_count": 25,
      "outputs": [
        {
          "output_type": "stream",
          "name": "stdout",
          "text": [
            "Closing server running on port: 7860\n"
          ]
        }
      ]
    },
    {
      "cell_type": "code",
      "source": [
        "gr.close_all()"
      ],
      "metadata": {
        "id": "Q74e6hMb04GA"
      },
      "execution_count": 11,
      "outputs": []
    },
    {
      "cell_type": "code",
      "source": [],
      "metadata": {
        "id": "5xGenHy234bq"
      },
      "execution_count": null,
      "outputs": []
    },
    {
      "cell_type": "code",
      "source": [],
      "metadata": {
        "id": "qkwjX3hm34YO"
      },
      "execution_count": null,
      "outputs": []
    },
    {
      "cell_type": "code",
      "source": [],
      "metadata": {
        "id": "5y-BAtzM34Uj"
      },
      "execution_count": null,
      "outputs": []
    },
    {
      "cell_type": "code",
      "source": [],
      "metadata": {
        "id": "N-eXDc9_34Rj"
      },
      "execution_count": null,
      "outputs": []
    },
    {
      "cell_type": "code",
      "source": [
        "# Embeddings and vectorstore setup\n",
        "embeddings = HuggingFaceEmbeddings(model_name=\"sentence-transformers/all-MiniLM-L6-v2\")\n",
        "\n",
        "def create_vector_store(texts):\n",
        "    vector_store = FAISS.from_documents(texts, embeddings)\n",
        "    return vector_store\n",
        "\n",
        "def create_qa_chain(vector_store):\n",
        "    retriever = vector_store.as_retriever(search_type=\"similarity\", search_kwargs={\"k\": 3})\n",
        "    qa_chain = RetrievalQA.from_chain_type(\n",
        "        llm=model,\n",
        "        chain_type=\"stuff\",\n",
        "        retriever=retriever,\n",
        "        return_source_documents=True\n",
        "    )\n",
        "    return qa_chain"
      ],
      "metadata": {
        "scrolled": true,
        "execution": {
          "iopub.status.busy": "2024-09-03T14:01:42.486186Z",
          "iopub.execute_input": "2024-09-03T14:01:42.48747Z",
          "iopub.status.idle": "2024-09-03T14:02:06.334395Z",
          "shell.execute_reply.started": "2024-09-03T14:01:42.487414Z",
          "shell.execute_reply": "2024-09-03T14:02:06.333111Z"
        },
        "trusted": true,
        "id": "WLxKfCve04GA",
        "outputId": "a0f78c6f-14d4-413e-f732-7eef1bd5b215",
        "colab": {
          "referenced_widgets": [
            "89b87d4da1934ec2adddc301c41f30d6",
            "071e567178ec4af4b7756ff586c4e1cf",
            "da29882ccb9f4ff78a8c595680a63e3d",
            "65870575214442c19b3607d3431561e5",
            "5235a5e5daf64e28b10ff68190fd2053",
            "b82ef709e7794847a5e5b2058444a0cb",
            "2ee10c6c1ef941d69b76d6f3af555747",
            "7437f4583a6d445fb8e0b8424e5cf6a6",
            "72568127da0a459c81dfd5f43003429c",
            "c1322faf4d954074a1c50ff19cb7894d",
            "fa766bf4be6948cba56774bf541507a8"
          ]
        }
      },
      "execution_count": null,
      "outputs": [
        {
          "output_type": "display_data",
          "data": {
            "text/plain": "modules.json:   0%|          | 0.00/349 [00:00<?, ?B/s]",
            "application/vnd.jupyter.widget-view+json": {
              "version_major": 2,
              "version_minor": 0,
              "model_id": "89b87d4da1934ec2adddc301c41f30d6"
            }
          },
          "metadata": {}
        },
        {
          "output_type": "display_data",
          "data": {
            "text/plain": "config_sentence_transformers.json:   0%|          | 0.00/116 [00:00<?, ?B/s]",
            "application/vnd.jupyter.widget-view+json": {
              "version_major": 2,
              "version_minor": 0,
              "model_id": "071e567178ec4af4b7756ff586c4e1cf"
            }
          },
          "metadata": {}
        },
        {
          "output_type": "display_data",
          "data": {
            "text/plain": "README.md:   0%|          | 0.00/10.7k [00:00<?, ?B/s]",
            "application/vnd.jupyter.widget-view+json": {
              "version_major": 2,
              "version_minor": 0,
              "model_id": "da29882ccb9f4ff78a8c595680a63e3d"
            }
          },
          "metadata": {}
        },
        {
          "output_type": "display_data",
          "data": {
            "text/plain": "sentence_bert_config.json:   0%|          | 0.00/53.0 [00:00<?, ?B/s]",
            "application/vnd.jupyter.widget-view+json": {
              "version_major": 2,
              "version_minor": 0,
              "model_id": "65870575214442c19b3607d3431561e5"
            }
          },
          "metadata": {}
        },
        {
          "output_type": "display_data",
          "data": {
            "text/plain": "config.json:   0%|          | 0.00/612 [00:00<?, ?B/s]",
            "application/vnd.jupyter.widget-view+json": {
              "version_major": 2,
              "version_minor": 0,
              "model_id": "5235a5e5daf64e28b10ff68190fd2053"
            }
          },
          "metadata": {}
        },
        {
          "output_type": "display_data",
          "data": {
            "text/plain": "model.safetensors:   0%|          | 0.00/90.9M [00:00<?, ?B/s]",
            "application/vnd.jupyter.widget-view+json": {
              "version_major": 2,
              "version_minor": 0,
              "model_id": "b82ef709e7794847a5e5b2058444a0cb"
            }
          },
          "metadata": {}
        },
        {
          "output_type": "display_data",
          "data": {
            "text/plain": "tokenizer_config.json:   0%|          | 0.00/350 [00:00<?, ?B/s]",
            "application/vnd.jupyter.widget-view+json": {
              "version_major": 2,
              "version_minor": 0,
              "model_id": "2ee10c6c1ef941d69b76d6f3af555747"
            }
          },
          "metadata": {}
        },
        {
          "output_type": "display_data",
          "data": {
            "text/plain": "vocab.txt:   0%|          | 0.00/232k [00:00<?, ?B/s]",
            "application/vnd.jupyter.widget-view+json": {
              "version_major": 2,
              "version_minor": 0,
              "model_id": "7437f4583a6d445fb8e0b8424e5cf6a6"
            }
          },
          "metadata": {}
        },
        {
          "output_type": "display_data",
          "data": {
            "text/plain": "tokenizer.json:   0%|          | 0.00/466k [00:00<?, ?B/s]",
            "application/vnd.jupyter.widget-view+json": {
              "version_major": 2,
              "version_minor": 0,
              "model_id": "72568127da0a459c81dfd5f43003429c"
            }
          },
          "metadata": {}
        },
        {
          "output_type": "display_data",
          "data": {
            "text/plain": "special_tokens_map.json:   0%|          | 0.00/112 [00:00<?, ?B/s]",
            "application/vnd.jupyter.widget-view+json": {
              "version_major": 2,
              "version_minor": 0,
              "model_id": "c1322faf4d954074a1c50ff19cb7894d"
            }
          },
          "metadata": {}
        },
        {
          "name": "stderr",
          "text": "/opt/conda/lib/python3.10/site-packages/transformers/tokenization_utils_base.py:1601: FutureWarning: `clean_up_tokenization_spaces` was not set. It will be set to `True` by default. This behavior will be depracted in transformers v4.45, and will be then set to `False` by default. For more details check this issue: https://github.com/huggingface/transformers/issues/31884\n  warnings.warn(\n",
          "output_type": "stream"
        },
        {
          "output_type": "display_data",
          "data": {
            "text/plain": "1_Pooling/config.json:   0%|          | 0.00/190 [00:00<?, ?B/s]",
            "application/vnd.jupyter.widget-view+json": {
              "version_major": 2,
              "version_minor": 0,
              "model_id": "fa766bf4be6948cba56774bf541507a8"
            }
          },
          "metadata": {}
        }
      ]
    }
  ]
}